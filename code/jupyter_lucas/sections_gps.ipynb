{
 "cells": [
  {
   "cell_type": "code",
   "execution_count": 1,
   "id": "9ed92c56",
   "metadata": {},
   "outputs": [],
   "source": [
    "import numpy as np\n",
    "import pandas as pd\n",
    "import matplotlib.pyplot as plt"
   ]
  },
  {
   "cell_type": "code",
   "execution_count": 8,
   "id": "a3942d89",
   "metadata": {},
   "outputs": [],
   "source": [
    "fp = r'C:\\Users\\b1090197\\OneDrive\\Documents\\XSki\\xski\\files\\sections.csv'\n",
    "sec = pd.read_csv(fp, sep=';', decimal=',')"
   ]
  },
  {
   "cell_type": "code",
   "execution_count": 20,
   "id": "5c9fd005",
   "metadata": {
    "scrolled": true
   },
   "outputs": [
    {
     "data": {
      "text/html": [
       "<div>\n",
       "<style scoped>\n",
       "    .dataframe tbody tr th:only-of-type {\n",
       "        vertical-align: middle;\n",
       "    }\n",
       "\n",
       "    .dataframe tbody tr th {\n",
       "        vertical-align: top;\n",
       "    }\n",
       "\n",
       "    .dataframe thead th {\n",
       "        text-align: right;\n",
       "    }\n",
       "</style>\n",
       "<table border=\"1\" class=\"dataframe\">\n",
       "  <thead>\n",
       "    <tr style=\"text-align: right;\">\n",
       "      <th></th>\n",
       "      <th>Section</th>\n",
       "      <th>Latitude</th>\n",
       "      <th>Longitude</th>\n",
       "      <th>slope</th>\n",
       "    </tr>\n",
       "  </thead>\n",
       "  <tbody>\n",
       "    <tr>\n",
       "      <th>0</th>\n",
       "      <td>start</td>\n",
       "      <td>46.282000</td>\n",
       "      <td>11.527000</td>\n",
       "      <td>down</td>\n",
       "    </tr>\n",
       "    <tr>\n",
       "      <th>1</th>\n",
       "      <td>end</td>\n",
       "      <td>46.281475</td>\n",
       "      <td>11.522780</td>\n",
       "      <td>down</td>\n",
       "    </tr>\n",
       "    <tr>\n",
       "      <th>2</th>\n",
       "      <td>start</td>\n",
       "      <td>46.281210</td>\n",
       "      <td>11.522300</td>\n",
       "      <td>up</td>\n",
       "    </tr>\n",
       "    <tr>\n",
       "      <th>3</th>\n",
       "      <td>end</td>\n",
       "      <td>46.281030</td>\n",
       "      <td>11.521998</td>\n",
       "      <td>up</td>\n",
       "    </tr>\n",
       "    <tr>\n",
       "      <th>4</th>\n",
       "      <td>start</td>\n",
       "      <td>46.281030</td>\n",
       "      <td>11.521998</td>\n",
       "      <td>down</td>\n",
       "    </tr>\n",
       "    <tr>\n",
       "      <th>5</th>\n",
       "      <td>end</td>\n",
       "      <td>46.280850</td>\n",
       "      <td>11.521650</td>\n",
       "      <td>down</td>\n",
       "    </tr>\n",
       "    <tr>\n",
       "      <th>6</th>\n",
       "      <td>start</td>\n",
       "      <td>46.280850</td>\n",
       "      <td>11.521650</td>\n",
       "      <td>turn</td>\n",
       "    </tr>\n",
       "    <tr>\n",
       "      <th>7</th>\n",
       "      <td>end</td>\n",
       "      <td>46.281200</td>\n",
       "      <td>11.521380</td>\n",
       "      <td>turn</td>\n",
       "    </tr>\n",
       "    <tr>\n",
       "      <th>8</th>\n",
       "      <td>start</td>\n",
       "      <td>46.281200</td>\n",
       "      <td>11.521380</td>\n",
       "      <td>up</td>\n",
       "    </tr>\n",
       "    <tr>\n",
       "      <th>9</th>\n",
       "      <td>end</td>\n",
       "      <td>46.281370</td>\n",
       "      <td>11.521640</td>\n",
       "      <td>up</td>\n",
       "    </tr>\n",
       "    <tr>\n",
       "      <th>10</th>\n",
       "      <td>start</td>\n",
       "      <td>46.281370</td>\n",
       "      <td>11.521640</td>\n",
       "      <td>down</td>\n",
       "    </tr>\n",
       "    <tr>\n",
       "      <th>11</th>\n",
       "      <td>end</td>\n",
       "      <td>46.281970</td>\n",
       "      <td>11.522100</td>\n",
       "      <td>down</td>\n",
       "    </tr>\n",
       "    <tr>\n",
       "      <th>12</th>\n",
       "      <td>start</td>\n",
       "      <td>46.281970</td>\n",
       "      <td>11.522100</td>\n",
       "      <td>up</td>\n",
       "    </tr>\n",
       "    <tr>\n",
       "      <th>13</th>\n",
       "      <td>end</td>\n",
       "      <td>46.282210</td>\n",
       "      <td>11.526560</td>\n",
       "      <td>up</td>\n",
       "    </tr>\n",
       "  </tbody>\n",
       "</table>\n",
       "</div>"
      ],
      "text/plain": [
       "   Section   Latitude  Longitude slope\n",
       "0    start  46.282000  11.527000  down\n",
       "1      end  46.281475  11.522780  down\n",
       "2    start  46.281210  11.522300    up\n",
       "3      end  46.281030  11.521998    up\n",
       "4    start  46.281030  11.521998  down\n",
       "5      end  46.280850  11.521650  down\n",
       "6    start  46.280850  11.521650  turn\n",
       "7      end  46.281200  11.521380  turn\n",
       "8    start  46.281200  11.521380    up\n",
       "9      end  46.281370  11.521640    up\n",
       "10   start  46.281370  11.521640  down\n",
       "11     end  46.281970  11.522100  down\n",
       "12   start  46.281970  11.522100    up\n",
       "13     end  46.282210  11.526560    up"
      ]
     },
     "execution_count": 20,
     "metadata": {},
     "output_type": "execute_result"
    }
   ],
   "source": [
    "sec"
   ]
  },
  {
   "cell_type": "code",
   "execution_count": 11,
   "id": "90c64b67",
   "metadata": {},
   "outputs": [
    {
     "data": {
      "text/html": [
       "<div>\n",
       "<style scoped>\n",
       "    .dataframe tbody tr th:only-of-type {\n",
       "        vertical-align: middle;\n",
       "    }\n",
       "\n",
       "    .dataframe tbody tr th {\n",
       "        vertical-align: top;\n",
       "    }\n",
       "\n",
       "    .dataframe thead th {\n",
       "        text-align: right;\n",
       "    }\n",
       "</style>\n",
       "<table border=\"1\" class=\"dataframe\">\n",
       "  <thead>\n",
       "    <tr style=\"text-align: right;\">\n",
       "      <th></th>\n",
       "      <th>Latitude</th>\n",
       "      <th>Longitude</th>\n",
       "      <th>Altitude</th>\n",
       "    </tr>\n",
       "    <tr>\n",
       "      <th>Frame</th>\n",
       "      <th></th>\n",
       "      <th></th>\n",
       "      <th></th>\n",
       "    </tr>\n",
       "  </thead>\n",
       "  <tbody>\n",
       "    <tr>\n",
       "      <th>0</th>\n",
       "      <td>46.282399</td>\n",
       "      <td>11.523759</td>\n",
       "      <td>1.25</td>\n",
       "    </tr>\n",
       "    <tr>\n",
       "      <th>1</th>\n",
       "      <td>46.282399</td>\n",
       "      <td>11.523759</td>\n",
       "      <td>1.25</td>\n",
       "    </tr>\n",
       "    <tr>\n",
       "      <th>2</th>\n",
       "      <td>46.282399</td>\n",
       "      <td>11.523759</td>\n",
       "      <td>1.25</td>\n",
       "    </tr>\n",
       "    <tr>\n",
       "      <th>3</th>\n",
       "      <td>46.282399</td>\n",
       "      <td>11.523759</td>\n",
       "      <td>1.25</td>\n",
       "    </tr>\n",
       "    <tr>\n",
       "      <th>4</th>\n",
       "      <td>46.282399</td>\n",
       "      <td>11.523759</td>\n",
       "      <td>1.25</td>\n",
       "    </tr>\n",
       "    <tr>\n",
       "      <th>...</th>\n",
       "      <td>...</td>\n",
       "      <td>...</td>\n",
       "      <td>...</td>\n",
       "    </tr>\n",
       "    <tr>\n",
       "      <th>57722</th>\n",
       "      <td>46.282410</td>\n",
       "      <td>11.523798</td>\n",
       "      <td>1.25</td>\n",
       "    </tr>\n",
       "    <tr>\n",
       "      <th>57723</th>\n",
       "      <td>46.282410</td>\n",
       "      <td>11.523798</td>\n",
       "      <td>1.25</td>\n",
       "    </tr>\n",
       "    <tr>\n",
       "      <th>57724</th>\n",
       "      <td>46.282410</td>\n",
       "      <td>11.523798</td>\n",
       "      <td>1.25</td>\n",
       "    </tr>\n",
       "    <tr>\n",
       "      <th>57725</th>\n",
       "      <td>46.282410</td>\n",
       "      <td>11.523798</td>\n",
       "      <td>1.25</td>\n",
       "    </tr>\n",
       "    <tr>\n",
       "      <th>57726</th>\n",
       "      <td>46.282410</td>\n",
       "      <td>11.523798</td>\n",
       "      <td>1.25</td>\n",
       "    </tr>\n",
       "  </tbody>\n",
       "</table>\n",
       "<p>57727 rows × 3 columns</p>\n",
       "</div>"
      ],
      "text/plain": [
       "        Latitude  Longitude  Altitude\n",
       "Frame                                \n",
       "0      46.282399  11.523759      1.25\n",
       "1      46.282399  11.523759      1.25\n",
       "2      46.282399  11.523759      1.25\n",
       "3      46.282399  11.523759      1.25\n",
       "4      46.282399  11.523759      1.25\n",
       "...          ...        ...       ...\n",
       "57722  46.282410  11.523798      1.25\n",
       "57723  46.282410  11.523798      1.25\n",
       "57724  46.282410  11.523798      1.25\n",
       "57725  46.282410  11.523798      1.25\n",
       "57726  46.282410  11.523798      1.25\n",
       "\n",
       "[57727 rows x 3 columns]"
      ]
     },
     "execution_count": 11,
     "metadata": {},
     "output_type": "execute_result"
    }
   ],
   "source": [
    "dp = r'C:\\Users\\b1090197\\Documents\\Case Study Kit\\Recordings\\P7\\MVNX\\easy_round_gps.csv'\n",
    "df = pd.read_csv(dp, index_col=0)\n",
    "df"
   ]
  },
  {
   "cell_type": "code",
   "execution_count": 12,
   "id": "089861a6",
   "metadata": {
    "scrolled": true
   },
   "outputs": [
    {
     "data": {
      "text/html": [
       "<div>\n",
       "<style scoped>\n",
       "    .dataframe tbody tr th:only-of-type {\n",
       "        vertical-align: middle;\n",
       "    }\n",
       "\n",
       "    .dataframe tbody tr th {\n",
       "        vertical-align: top;\n",
       "    }\n",
       "\n",
       "    .dataframe thead th {\n",
       "        text-align: right;\n",
       "    }\n",
       "</style>\n",
       "<table border=\"1\" class=\"dataframe\">\n",
       "  <thead>\n",
       "    <tr style=\"text-align: right;\">\n",
       "      <th></th>\n",
       "      <th>Latitude</th>\n",
       "      <th>Longitude</th>\n",
       "      <th>Altitude</th>\n",
       "    </tr>\n",
       "    <tr>\n",
       "      <th>Frame</th>\n",
       "      <th></th>\n",
       "      <th></th>\n",
       "      <th></th>\n",
       "    </tr>\n",
       "  </thead>\n",
       "  <tbody>\n",
       "  </tbody>\n",
       "</table>\n",
       "</div>"
      ],
      "text/plain": [
       "Empty DataFrame\n",
       "Columns: [Latitude, Longitude, Altitude]\n",
       "Index: []"
      ]
     },
     "execution_count": 12,
     "metadata": {},
     "output_type": "execute_result"
    }
   ],
   "source": [
    "df[abs(df['Latitude']-sec['Latitude'].iloc[0])]"
   ]
  },
  {
   "cell_type": "code",
   "execution_count": null,
   "id": "c0955ff5",
   "metadata": {},
   "outputs": [],
   "source": [
    "# example\n",
    "# p13 = v['P13']['medium'].values\n",
    "# v['P13'].apply(lambda x: x- p13, axis=0)"
   ]
  },
  {
   "cell_type": "code",
   "execution_count": 17,
   "id": "0ec08315",
   "metadata": {},
   "outputs": [
    {
     "data": {
      "text/plain": [
       "11.527"
      ]
     },
     "execution_count": 17,
     "metadata": {},
     "output_type": "execute_result"
    }
   ],
   "source": [
    "lat1 = sec['Latitude'].iloc[0]\n",
    "long1 = sec['Longitude'].iloc[0]\n"
   ]
  },
  {
   "cell_type": "code",
   "execution_count": 23,
   "id": "bdea2a1a",
   "metadata": {},
   "outputs": [],
   "source": [
    "x1 = sec.loc[8]['Longitude']\n",
    "y1 = sec.loc[8]['Latitude']\n",
    "x2 = sec.loc[9]['Longitude']\n",
    "y2 = sec.loc[9]['Latitude']"
   ]
  },
  {
   "cell_type": "code",
   "execution_count": 64,
   "id": "38906be9",
   "metadata": {},
   "outputs": [
    {
     "data": {
      "text/plain": [
       "0.0002599999999990388"
      ]
     },
     "execution_count": 64,
     "metadata": {},
     "output_type": "execute_result"
    }
   ],
   "source": [
    "dy = (y2-y1)\n",
    "dx = (x2-x1)\n",
    "dx"
   ]
  },
  {
   "cell_type": "code",
   "execution_count": 44,
   "id": "e8c659c0",
   "metadata": {},
   "outputs": [
    {
     "data": {
      "text/plain": [
       "0.6538461538648108"
      ]
     },
     "execution_count": 44,
     "metadata": {},
     "output_type": "execute_result"
    }
   ],
   "source": [
    "m = dy/dx\n",
    "m"
   ]
  },
  {
   "cell_type": "code",
   "execution_count": 62,
   "id": "a43a4b72",
   "metadata": {},
   "outputs": [],
   "source": [
    "x = np.arange(0,.001,.0001)\n",
    "y = m*x"
   ]
  },
  {
   "cell_type": "code",
   "execution_count": 63,
   "id": "14608b10",
   "metadata": {},
   "outputs": [
    {
     "data": {
      "text/plain": [
       "[<matplotlib.lines.Line2D at 0x1f71da80610>]"
      ]
     },
     "execution_count": 63,
     "metadata": {},
     "output_type": "execute_result"
    },
    {
     "data": {
      "image/png": "[encoded data removed]",
      "text/plain": [
       "<Figure size 432x288 with 1 Axes>"
      ]
     },
     "metadata": {
      "needs_background": "light"
     },
     "output_type": "display_data"
    }
   ],
   "source": [
    "plt.plot(y)\n",
    "plt.plot(dx,dy,'rx')"
   ]
  },
  {
   "cell_type": "code",
   "execution_count": 70,
   "id": "9183b01e",
   "metadata": {},
   "outputs": [],
   "source": [
    "x = np.array([sec.loc[8]['Longitude'], sec.loc[9]['Longitude'], sec.loc[11]['Longitude']])\n",
    "y = np.array([sec.loc[8]['Latitude'], sec.loc[9]['Latitude'], sec.loc[11]['Latitude']])"
   ]
  },
  {
   "cell_type": "code",
   "execution_count": 71,
   "id": "8fe8af24",
   "metadata": {},
   "outputs": [],
   "source": [
    "offset_x = x[0]\n",
    "offset_y = y[0]"
   ]
  },
  {
   "cell_type": "code",
   "execution_count": 72,
   "id": "71d4fbd7",
   "metadata": {},
   "outputs": [],
   "source": [
    "x = x-offset_x\n",
    "y = y-offset_y"
   ]
  },
  {
   "cell_type": "code",
   "execution_count": 73,
   "id": "eb6f010d",
   "metadata": {},
   "outputs": [
    {
     "data": {
      "text/plain": [
       "array([0.     , 0.00017, 0.00077])"
      ]
     },
     "execution_count": 73,
     "metadata": {},
     "output_type": "execute_result"
    }
   ],
   "source": [
    "y"
   ]
  },
  {
   "cell_type": "code",
   "execution_count": 74,
   "id": "a46c0619",
   "metadata": {},
   "outputs": [
    {
     "data": {
      "text/plain": [
       "array([0.     , 0.00026, 0.00072])"
      ]
     },
     "execution_count": 74,
     "metadata": {},
     "output_type": "execute_result"
    }
   ],
   "source": [
    "x"
   ]
  },
  {
   "cell_type": "code",
   "execution_count": 75,
   "id": "afe41642",
   "metadata": {},
   "outputs": [],
   "source": [
    "# geradengleichung\n",
    "m = y[1]/x[1]"
   ]
  },
  {
   "cell_type": "code",
   "execution_count": 83,
   "id": "763e025a",
   "metadata": {},
   "outputs": [],
   "source": [
    "t = np.arange(0,0.001,0.000001)\n",
    "ft = t * m"
   ]
  },
  {
   "cell_type": "code",
   "execution_count": 84,
   "id": "7f1713dc",
   "metadata": {},
   "outputs": [
    {
     "data": {
      "text/plain": [
       "<matplotlib.collections.PathCollection at 0x1f71dca0220>"
      ]
     },
     "execution_count": 84,
     "metadata": {},
     "output_type": "execute_result"
    },
    {
     "data": {
      "image/png": "[encoded data removed]",
      "text/plain": [
       "<Figure size 432x288 with 1 Axes>"
      ]
     },
     "metadata": {
      "needs_background": "light"
     },
     "output_type": "display_data"
    }
   ],
   "source": [
    "plt.plot(t,ft)\n",
    "plt.scatter(x,y)"
   ]
  },
  {
   "cell_type": "code",
   "execution_count": 93,
   "id": "66fba048",
   "metadata": {},
   "outputs": [
    {
     "data": {
      "text/plain": [
       "11.52163044707066"
      ]
     },
     "execution_count": 93,
     "metadata": {},
     "output_type": "execute_result"
    }
   ],
   "source": [
    "np.min(np.sqrt((x[2]-t)**2 + (y[2]-ft)**2))+offset_x"
   ]
  },
  {
   "cell_type": "code",
   "execution_count": 94,
   "id": "293986a4",
   "metadata": {},
   "outputs": [
    {
     "data": {
      "text/plain": [
       "46.28176034615386"
      ]
     },
     "execution_count": 94,
     "metadata": {},
     "output_type": "execute_result"
    }
   ],
   "source": [
    "ft[857]+offset_y"
   ]
  },
  {
   "cell_type": "code",
   "execution_count": 96,
   "id": "6f7d3fbf",
   "metadata": {},
   "outputs": [
    {
     "data": {
      "text/html": [
       "<div>\n",
       "<style scoped>\n",
       "    .dataframe tbody tr th:only-of-type {\n",
       "        vertical-align: middle;\n",
       "    }\n",
       "\n",
       "    .dataframe tbody tr th {\n",
       "        vertical-align: top;\n",
       "    }\n",
       "\n",
       "    .dataframe thead th {\n",
       "        text-align: right;\n",
       "    }\n",
       "</style>\n",
       "<table border=\"1\" class=\"dataframe\">\n",
       "  <thead>\n",
       "    <tr style=\"text-align: right;\">\n",
       "      <th></th>\n",
       "      <th>Latitude</th>\n",
       "      <th>Longitude</th>\n",
       "      <th>Altitude</th>\n",
       "    </tr>\n",
       "    <tr>\n",
       "      <th>Frame</th>\n",
       "      <th></th>\n",
       "      <th></th>\n",
       "      <th></th>\n",
       "    </tr>\n",
       "  </thead>\n",
       "  <tbody>\n",
       "    <tr>\n",
       "      <th>0</th>\n",
       "      <td>46.282403</td>\n",
       "      <td>11.523813</td>\n",
       "      <td>1.25</td>\n",
       "    </tr>\n",
       "    <tr>\n",
       "      <th>1</th>\n",
       "      <td>46.282403</td>\n",
       "      <td>11.523813</td>\n",
       "      <td>1.25</td>\n",
       "    </tr>\n",
       "    <tr>\n",
       "      <th>2</th>\n",
       "      <td>46.282403</td>\n",
       "      <td>11.523813</td>\n",
       "      <td>1.25</td>\n",
       "    </tr>\n",
       "    <tr>\n",
       "      <th>3</th>\n",
       "      <td>46.282403</td>\n",
       "      <td>11.523813</td>\n",
       "      <td>1.25</td>\n",
       "    </tr>\n",
       "    <tr>\n",
       "      <th>4</th>\n",
       "      <td>46.282403</td>\n",
       "      <td>11.523813</td>\n",
       "      <td>1.25</td>\n",
       "    </tr>\n",
       "    <tr>\n",
       "      <th>...</th>\n",
       "      <td>...</td>\n",
       "      <td>...</td>\n",
       "      <td>...</td>\n",
       "    </tr>\n",
       "    <tr>\n",
       "      <th>46430</th>\n",
       "      <td>46.282407</td>\n",
       "      <td>11.523842</td>\n",
       "      <td>1.25</td>\n",
       "    </tr>\n",
       "    <tr>\n",
       "      <th>46431</th>\n",
       "      <td>46.282407</td>\n",
       "      <td>11.523842</td>\n",
       "      <td>1.25</td>\n",
       "    </tr>\n",
       "    <tr>\n",
       "      <th>46432</th>\n",
       "      <td>46.282407</td>\n",
       "      <td>11.523842</td>\n",
       "      <td>1.25</td>\n",
       "    </tr>\n",
       "    <tr>\n",
       "      <th>46433</th>\n",
       "      <td>46.282407</td>\n",
       "      <td>11.523842</td>\n",
       "      <td>1.25</td>\n",
       "    </tr>\n",
       "    <tr>\n",
       "      <th>46434</th>\n",
       "      <td>46.282407</td>\n",
       "      <td>11.523842</td>\n",
       "      <td>1.25</td>\n",
       "    </tr>\n",
       "  </tbody>\n",
       "</table>\n",
       "<p>46435 rows × 3 columns</p>\n",
       "</div>"
      ],
      "text/plain": [
       "        Latitude  Longitude  Altitude\n",
       "Frame                                \n",
       "0      46.282403  11.523813      1.25\n",
       "1      46.282403  11.523813      1.25\n",
       "2      46.282403  11.523813      1.25\n",
       "3      46.282403  11.523813      1.25\n",
       "4      46.282403  11.523813      1.25\n",
       "...          ...        ...       ...\n",
       "46430  46.282407  11.523842      1.25\n",
       "46431  46.282407  11.523842      1.25\n",
       "46432  46.282407  11.523842      1.25\n",
       "46433  46.282407  11.523842      1.25\n",
       "46434  46.282407  11.523842      1.25\n",
       "\n",
       "[46435 rows x 3 columns]"
      ]
     },
     "execution_count": 96,
     "metadata": {},
     "output_type": "execute_result"
    }
   ],
   "source": [
    "# find projection\n",
    "fp = r'C:\\Users\\b1090197\\Documents\\Case Study Kit\\Recordings\\P7\\MVNX\\hard_round_gps.csv'\n",
    "gps = pd.read_csv(fp, index_col=0)\n",
    "gps"
   ]
  },
  {
   "cell_type": "code",
   "execution_count": 97,
   "id": "b84e6ce4",
   "metadata": {},
   "outputs": [],
   "source": [
    "lat_p = y[2]\n",
    "long_p = x[2]\n"
   ]
  },
  {
   "cell_type": "code",
   "execution_count": 99,
   "id": "60e3928f",
   "metadata": {},
   "outputs": [
    {
     "data": {
      "text/plain": [
       "30591"
      ]
     },
     "execution_count": 99,
     "metadata": {},
     "output_type": "execute_result"
    }
   ],
   "source": [
    "np.argmin(np.sqrt((long_p-gps['Longitude'].values)**2 + (lat_p-gps['Latitude'].values)**2))"
   ]
  },
  {
   "cell_type": "code",
   "execution_count": 100,
   "id": "29bc463e",
   "metadata": {},
   "outputs": [],
   "source": [
    "def find_projection_index(gps, long_p, lat_p):\n",
    "    return np.argmin(np.sqrt((long_p-gps['Longitude'].values)**2 + (lat_p-gps['Latitude'].values)**2))"
   ]
  },
  {
   "cell_type": "code",
   "execution_count": 103,
   "id": "08e2f82b",
   "metadata": {},
   "outputs": [
    {
     "data": {
      "text/plain": [
       "Latitude     46.280681\n",
       "Longitude    11.521179\n",
       "Name: 30591, dtype: float64"
      ]
     },
     "execution_count": 103,
     "metadata": {},
     "output_type": "execute_result"
    }
   ],
   "source": [
    "gps.loc[find_projection_index(gps, long_p, lat_p)].iloc[:2]"
   ]
  },
  {
   "cell_type": "code",
   "execution_count": null,
   "id": "3468b771",
   "metadata": {},
   "outputs": [],
   "source": []
  }
 ],
 "metadata": {
  "kernelspec": {
   "display_name": "Python 3 (ipykernel)",
   "language": "python",
   "name": "python3"
  },
  "language_info": {
   "codemirror_mode": {
    "name": "ipython",
    "version": 3
   },
   "file_extension": ".py",
   "mimetype": "text/x-python",
   "name": "python",
   "nbconvert_exporter": "python",
   "pygments_lexer": "ipython3",
   "version": "3.9.12"
  }
 },
 "nbformat": 4,
 "nbformat_minor": 5
}
