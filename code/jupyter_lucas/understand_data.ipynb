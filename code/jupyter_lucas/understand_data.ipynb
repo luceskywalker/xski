{
 "cells": [
  {
   "cell_type": "code",
   "execution_count": 1,
   "id": "2884c99f",
   "metadata": {},
   "outputs": [],
   "source": [
    "import mvnx\n",
    "from pathlib import Path\n",
    "import numpy as np\n",
    "import pandas as pd\n",
    "import matplotlib.pyplot as plt\n",
    "import csv"
   ]
  },
  {
   "cell_type": "code",
   "execution_count": 5,
   "id": "bda54a78",
   "metadata": {},
   "outputs": [],
   "source": [
    "a = ['a','a','a','a','a']\n",
    "with open('GFG', 'w') as f:\n",
    "      \n",
    "    # using csv.writer method from CSV package\n",
    "    write = csv.writer(f)\n",
    "      \n",
    "    write.writerow(a)"
   ]
  },
  {
   "cell_type": "code",
   "execution_count": 9,
   "id": "759715c2",
   "metadata": {},
   "outputs": [],
   "source": [
    "np.save(\"GFG\", a, allow_pickle = False)"
   ]
  },
  {
   "cell_type": "code",
   "execution_count": 12,
   "id": "0c92bf62",
   "metadata": {},
   "outputs": [
    {
     "data": {
      "text/plain": [
       "['a', 'a', 'a', 'a', 'a']"
      ]
     },
     "execution_count": 12,
     "metadata": {},
     "output_type": "execute_result"
    }
   ],
   "source": [
    "list(np.load('GFG.npy'))"
   ]
  },
  {
   "cell_type": "code",
   "execution_count": null,
   "id": "becafb60",
   "metadata": {},
   "outputs": [],
   "source": []
  }
 ],
 "metadata": {
  "kernelspec": {
   "display_name": "Python 3 (ipykernel)",
   "language": "python",
   "name": "python3"
  },
  "language_info": {
   "codemirror_mode": {
    "name": "ipython",
    "version": 3
   },
   "file_extension": ".py",
   "mimetype": "text/x-python",
   "name": "python",
   "nbconvert_exporter": "python",
   "pygments_lexer": "ipython3",
   "version": "3.9.12"
  }
 },
 "nbformat": 4,
 "nbformat_minor": 5
}
