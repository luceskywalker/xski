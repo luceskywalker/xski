{
 "cells": [
  {
   "cell_type": "code",
   "execution_count": 1,
   "id": "3678b85c",
   "metadata": {},
   "outputs": [],
   "source": [
    "import pandas as pd\n",
    "import numpy as np\n",
    "import matplotlib.pyplot as plt\n",
    "import seaborn as sns"
   ]
  },
  {
   "cell_type": "code",
   "execution_count": 193,
   "id": "c91c446d",
   "metadata": {},
   "outputs": [],
   "source": [
    "fp = r'C:\\Users\\b1090197\\OneDrive\\Documents\\XSki\\xski\\files\\all_subtech.csv'"
   ]
  },
  {
   "cell_type": "code",
   "execution_count": 194,
   "id": "c90b7299",
   "metadata": {},
   "outputs": [],
   "source": [
    "df = pd.read_csv(fp)"
   ]
  },
  {
   "cell_type": "code",
   "execution_count": 195,
   "id": "26b0ed37",
   "metadata": {},
   "outputs": [],
   "source": [
    "df.iloc[:,:2]=df.iloc[:,:2].astype('category')"
   ]
  },
  {
   "cell_type": "code",
   "execution_count": 196,
   "id": "73942d5d",
   "metadata": {},
   "outputs": [
    {
     "data": {
      "text/html": [
       "<div>\n",
       "<style scoped>\n",
       "    .dataframe tbody tr th:only-of-type {\n",
       "        vertical-align: middle;\n",
       "    }\n",
       "\n",
       "    .dataframe tbody tr th {\n",
       "        vertical-align: top;\n",
       "    }\n",
       "\n",
       "    .dataframe thead th {\n",
       "        text-align: right;\n",
       "    }\n",
       "</style>\n",
       "<table border=\"1\" class=\"dataframe\">\n",
       "  <thead>\n",
       "    <tr style=\"text-align: right;\">\n",
       "      <th></th>\n",
       "      <th>Participant</th>\n",
       "      <th>Intensity</th>\n",
       "      <th>Time [s]</th>\n",
       "      <th>diagonal [%]</th>\n",
       "      <th>dp [%]</th>\n",
       "      <th>fall [%]</th>\n",
       "      <th>glide [%]</th>\n",
       "      <th>heringbone [%]</th>\n",
       "      <th>dp-skate [%]</th>\n",
       "      <th>dp-kick [%]</th>\n",
       "      <th>skate [%]</th>\n",
       "      <th>v1-skate [%]</th>\n",
       "    </tr>\n",
       "  </thead>\n",
       "  <tbody>\n",
       "    <tr>\n",
       "      <th>0</th>\n",
       "      <td>P3</td>\n",
       "      <td>easy</td>\n",
       "      <td>245.587500</td>\n",
       "      <td>6.521776</td>\n",
       "      <td>51.285183</td>\n",
       "      <td>0.000000</td>\n",
       "      <td>17.140870</td>\n",
       "      <td>25.052171</td>\n",
       "      <td>0.000000</td>\n",
       "      <td>0.000000</td>\n",
       "      <td>0.000000</td>\n",
       "      <td>0.000000</td>\n",
       "    </tr>\n",
       "    <tr>\n",
       "      <th>1</th>\n",
       "      <td>P3</td>\n",
       "      <td>medium</td>\n",
       "      <td>214.929167</td>\n",
       "      <td>0.000000</td>\n",
       "      <td>47.829711</td>\n",
       "      <td>3.342186</td>\n",
       "      <td>19.428882</td>\n",
       "      <td>29.399221</td>\n",
       "      <td>0.000000</td>\n",
       "      <td>0.000000</td>\n",
       "      <td>0.000000</td>\n",
       "      <td>0.000000</td>\n",
       "    </tr>\n",
       "    <tr>\n",
       "      <th>2</th>\n",
       "      <td>P3</td>\n",
       "      <td>hard</td>\n",
       "      <td>220.304167</td>\n",
       "      <td>0.000000</td>\n",
       "      <td>45.671704</td>\n",
       "      <td>5.783670</td>\n",
       "      <td>21.848581</td>\n",
       "      <td>26.696045</td>\n",
       "      <td>0.000000</td>\n",
       "      <td>0.000000</td>\n",
       "      <td>0.000000</td>\n",
       "      <td>0.000000</td>\n",
       "    </tr>\n",
       "    <tr>\n",
       "      <th>3</th>\n",
       "      <td>P5</td>\n",
       "      <td>easy</td>\n",
       "      <td>123.229167</td>\n",
       "      <td>0.000000</td>\n",
       "      <td>76.131868</td>\n",
       "      <td>0.000000</td>\n",
       "      <td>11.749789</td>\n",
       "      <td>0.000000</td>\n",
       "      <td>12.118343</td>\n",
       "      <td>0.000000</td>\n",
       "      <td>0.000000</td>\n",
       "      <td>0.000000</td>\n",
       "    </tr>\n",
       "    <tr>\n",
       "      <th>4</th>\n",
       "      <td>P5</td>\n",
       "      <td>medium</td>\n",
       "      <td>101.325000</td>\n",
       "      <td>0.000000</td>\n",
       "      <td>77.703759</td>\n",
       "      <td>0.000000</td>\n",
       "      <td>11.723826</td>\n",
       "      <td>0.000000</td>\n",
       "      <td>10.572415</td>\n",
       "      <td>0.000000</td>\n",
       "      <td>0.000000</td>\n",
       "      <td>0.000000</td>\n",
       "    </tr>\n",
       "    <tr>\n",
       "      <th>5</th>\n",
       "      <td>P5</td>\n",
       "      <td>hard</td>\n",
       "      <td>97.558333</td>\n",
       "      <td>0.000000</td>\n",
       "      <td>79.127872</td>\n",
       "      <td>0.000000</td>\n",
       "      <td>9.972666</td>\n",
       "      <td>0.000000</td>\n",
       "      <td>10.899462</td>\n",
       "      <td>0.000000</td>\n",
       "      <td>0.000000</td>\n",
       "      <td>0.000000</td>\n",
       "    </tr>\n",
       "    <tr>\n",
       "      <th>6</th>\n",
       "      <td>P6</td>\n",
       "      <td>easy</td>\n",
       "      <td>123.995833</td>\n",
       "      <td>9.701267</td>\n",
       "      <td>58.795658</td>\n",
       "      <td>0.000000</td>\n",
       "      <td>22.819987</td>\n",
       "      <td>0.000000</td>\n",
       "      <td>8.683087</td>\n",
       "      <td>0.000000</td>\n",
       "      <td>0.000000</td>\n",
       "      <td>0.000000</td>\n",
       "    </tr>\n",
       "    <tr>\n",
       "      <th>7</th>\n",
       "      <td>P6</td>\n",
       "      <td>medium</td>\n",
       "      <td>107.875000</td>\n",
       "      <td>0.000000</td>\n",
       "      <td>62.205485</td>\n",
       "      <td>0.000000</td>\n",
       "      <td>25.195056</td>\n",
       "      <td>0.000000</td>\n",
       "      <td>12.599459</td>\n",
       "      <td>0.000000</td>\n",
       "      <td>0.000000</td>\n",
       "      <td>0.000000</td>\n",
       "    </tr>\n",
       "    <tr>\n",
       "      <th>8</th>\n",
       "      <td>P6</td>\n",
       "      <td>hard</td>\n",
       "      <td>92.725000</td>\n",
       "      <td>0.000000</td>\n",
       "      <td>61.215961</td>\n",
       "      <td>0.000000</td>\n",
       "      <td>25.352746</td>\n",
       "      <td>0.000000</td>\n",
       "      <td>13.431293</td>\n",
       "      <td>0.000000</td>\n",
       "      <td>0.000000</td>\n",
       "      <td>0.000000</td>\n",
       "    </tr>\n",
       "    <tr>\n",
       "      <th>9</th>\n",
       "      <td>P7</td>\n",
       "      <td>easy</td>\n",
       "      <td>178.262500</td>\n",
       "      <td>20.157539</td>\n",
       "      <td>44.618189</td>\n",
       "      <td>0.000000</td>\n",
       "      <td>19.834981</td>\n",
       "      <td>0.000000</td>\n",
       "      <td>5.635416</td>\n",
       "      <td>8.571161</td>\n",
       "      <td>1.182713</td>\n",
       "      <td>0.000000</td>\n",
       "    </tr>\n",
       "    <tr>\n",
       "      <th>10</th>\n",
       "      <td>P7</td>\n",
       "      <td>medium</td>\n",
       "      <td>141.687500</td>\n",
       "      <td>20.835171</td>\n",
       "      <td>54.703720</td>\n",
       "      <td>0.000000</td>\n",
       "      <td>13.174533</td>\n",
       "      <td>0.000000</td>\n",
       "      <td>8.501691</td>\n",
       "      <td>2.784885</td>\n",
       "      <td>0.000000</td>\n",
       "      <td>0.000000</td>\n",
       "    </tr>\n",
       "    <tr>\n",
       "      <th>11</th>\n",
       "      <td>P7</td>\n",
       "      <td>hard</td>\n",
       "      <td>122.283333</td>\n",
       "      <td>16.553087</td>\n",
       "      <td>59.901867</td>\n",
       "      <td>0.000000</td>\n",
       "      <td>9.455500</td>\n",
       "      <td>0.000000</td>\n",
       "      <td>14.089546</td>\n",
       "      <td>0.000000</td>\n",
       "      <td>0.000000</td>\n",
       "      <td>0.000000</td>\n",
       "    </tr>\n",
       "    <tr>\n",
       "      <th>12</th>\n",
       "      <td>P8</td>\n",
       "      <td>easy</td>\n",
       "      <td>139.712500</td>\n",
       "      <td>19.092780</td>\n",
       "      <td>52.906266</td>\n",
       "      <td>0.000000</td>\n",
       "      <td>7.270884</td>\n",
       "      <td>0.000000</td>\n",
       "      <td>12.000835</td>\n",
       "      <td>8.729236</td>\n",
       "      <td>0.000000</td>\n",
       "      <td>0.000000</td>\n",
       "    </tr>\n",
       "    <tr>\n",
       "      <th>13</th>\n",
       "      <td>P8</td>\n",
       "      <td>medium</td>\n",
       "      <td>119.820833</td>\n",
       "      <td>17.161039</td>\n",
       "      <td>57.648573</td>\n",
       "      <td>0.000000</td>\n",
       "      <td>7.678131</td>\n",
       "      <td>0.000000</td>\n",
       "      <td>10.755642</td>\n",
       "      <td>6.756616</td>\n",
       "      <td>0.000000</td>\n",
       "      <td>0.000000</td>\n",
       "    </tr>\n",
       "    <tr>\n",
       "      <th>14</th>\n",
       "      <td>P8</td>\n",
       "      <td>hard</td>\n",
       "      <td>111.008333</td>\n",
       "      <td>16.642895</td>\n",
       "      <td>61.988589</td>\n",
       "      <td>0.000000</td>\n",
       "      <td>7.593274</td>\n",
       "      <td>0.000000</td>\n",
       "      <td>13.775242</td>\n",
       "      <td>0.000000</td>\n",
       "      <td>0.000000</td>\n",
       "      <td>0.000000</td>\n",
       "    </tr>\n",
       "    <tr>\n",
       "      <th>15</th>\n",
       "      <td>P12</td>\n",
       "      <td>easy</td>\n",
       "      <td>238.216667</td>\n",
       "      <td>55.189603</td>\n",
       "      <td>30.637375</td>\n",
       "      <td>0.000000</td>\n",
       "      <td>14.173022</td>\n",
       "      <td>0.000000</td>\n",
       "      <td>0.000000</td>\n",
       "      <td>0.000000</td>\n",
       "      <td>0.000000</td>\n",
       "      <td>0.000000</td>\n",
       "    </tr>\n",
       "    <tr>\n",
       "      <th>16</th>\n",
       "      <td>P12</td>\n",
       "      <td>medium</td>\n",
       "      <td>206.666667</td>\n",
       "      <td>35.201613</td>\n",
       "      <td>49.231855</td>\n",
       "      <td>0.000000</td>\n",
       "      <td>7.532258</td>\n",
       "      <td>8.034274</td>\n",
       "      <td>0.000000</td>\n",
       "      <td>0.000000</td>\n",
       "      <td>0.000000</td>\n",
       "      <td>0.000000</td>\n",
       "    </tr>\n",
       "    <tr>\n",
       "      <th>17</th>\n",
       "      <td>P12</td>\n",
       "      <td>hard</td>\n",
       "      <td>199.454167</td>\n",
       "      <td>16.181662</td>\n",
       "      <td>62.015083</td>\n",
       "      <td>0.000000</td>\n",
       "      <td>5.991351</td>\n",
       "      <td>15.811903</td>\n",
       "      <td>0.000000</td>\n",
       "      <td>0.000000</td>\n",
       "      <td>0.000000</td>\n",
       "      <td>0.000000</td>\n",
       "    </tr>\n",
       "    <tr>\n",
       "      <th>18</th>\n",
       "      <td>P13</td>\n",
       "      <td>easy</td>\n",
       "      <td>129.629167</td>\n",
       "      <td>0.000000</td>\n",
       "      <td>75.725628</td>\n",
       "      <td>0.000000</td>\n",
       "      <td>14.496480</td>\n",
       "      <td>0.000000</td>\n",
       "      <td>8.813603</td>\n",
       "      <td>0.000000</td>\n",
       "      <td>0.964289</td>\n",
       "      <td>0.000000</td>\n",
       "    </tr>\n",
       "    <tr>\n",
       "      <th>19</th>\n",
       "      <td>P13</td>\n",
       "      <td>medium</td>\n",
       "      <td>113.750000</td>\n",
       "      <td>0.000000</td>\n",
       "      <td>54.626374</td>\n",
       "      <td>0.000000</td>\n",
       "      <td>13.388278</td>\n",
       "      <td>0.000000</td>\n",
       "      <td>13.157509</td>\n",
       "      <td>0.000000</td>\n",
       "      <td>0.000000</td>\n",
       "      <td>18.827839</td>\n",
       "    </tr>\n",
       "    <tr>\n",
       "      <th>20</th>\n",
       "      <td>P13</td>\n",
       "      <td>hard</td>\n",
       "      <td>101.641667</td>\n",
       "      <td>0.000000</td>\n",
       "      <td>54.722473</td>\n",
       "      <td>0.000000</td>\n",
       "      <td>13.117980</td>\n",
       "      <td>0.000000</td>\n",
       "      <td>19.697467</td>\n",
       "      <td>0.000000</td>\n",
       "      <td>0.000000</td>\n",
       "      <td>12.462081</td>\n",
       "    </tr>\n",
       "    <tr>\n",
       "      <th>21</th>\n",
       "      <td>P14</td>\n",
       "      <td>easy</td>\n",
       "      <td>148.000000</td>\n",
       "      <td>0.000000</td>\n",
       "      <td>84.149775</td>\n",
       "      <td>0.000000</td>\n",
       "      <td>8.164414</td>\n",
       "      <td>0.000000</td>\n",
       "      <td>3.800676</td>\n",
       "      <td>0.000000</td>\n",
       "      <td>3.885135</td>\n",
       "      <td>0.000000</td>\n",
       "    </tr>\n",
       "    <tr>\n",
       "      <th>22</th>\n",
       "      <td>P14</td>\n",
       "      <td>medium</td>\n",
       "      <td>122.916667</td>\n",
       "      <td>0.000000</td>\n",
       "      <td>62.701695</td>\n",
       "      <td>0.000000</td>\n",
       "      <td>7.247458</td>\n",
       "      <td>0.000000</td>\n",
       "      <td>12.654237</td>\n",
       "      <td>0.000000</td>\n",
       "      <td>4.406780</td>\n",
       "      <td>12.989831</td>\n",
       "    </tr>\n",
       "    <tr>\n",
       "      <th>23</th>\n",
       "      <td>P14</td>\n",
       "      <td>hard</td>\n",
       "      <td>115.208333</td>\n",
       "      <td>0.000000</td>\n",
       "      <td>61.692586</td>\n",
       "      <td>0.000000</td>\n",
       "      <td>10.564195</td>\n",
       "      <td>0.000000</td>\n",
       "      <td>14.112116</td>\n",
       "      <td>0.000000</td>\n",
       "      <td>3.142857</td>\n",
       "      <td>10.488246</td>\n",
       "    </tr>\n",
       "  </tbody>\n",
       "</table>\n",
       "</div>"
      ],
      "text/plain": [
       "   Participant Intensity    Time [s]  diagonal [%]     dp [%]  fall [%]  \\\n",
       "0           P3      easy  245.587500      6.521776  51.285183  0.000000   \n",
       "1           P3    medium  214.929167      0.000000  47.829711  3.342186   \n",
       "2           P3      hard  220.304167      0.000000  45.671704  5.783670   \n",
       "3           P5      easy  123.229167      0.000000  76.131868  0.000000   \n",
       "4           P5    medium  101.325000      0.000000  77.703759  0.000000   \n",
       "5           P5      hard   97.558333      0.000000  79.127872  0.000000   \n",
       "6           P6      easy  123.995833      9.701267  58.795658  0.000000   \n",
       "7           P6    medium  107.875000      0.000000  62.205485  0.000000   \n",
       "8           P6      hard   92.725000      0.000000  61.215961  0.000000   \n",
       "9           P7      easy  178.262500     20.157539  44.618189  0.000000   \n",
       "10          P7    medium  141.687500     20.835171  54.703720  0.000000   \n",
       "11          P7      hard  122.283333     16.553087  59.901867  0.000000   \n",
       "12          P8      easy  139.712500     19.092780  52.906266  0.000000   \n",
       "13          P8    medium  119.820833     17.161039  57.648573  0.000000   \n",
       "14          P8      hard  111.008333     16.642895  61.988589  0.000000   \n",
       "15         P12      easy  238.216667     55.189603  30.637375  0.000000   \n",
       "16         P12    medium  206.666667     35.201613  49.231855  0.000000   \n",
       "17         P12      hard  199.454167     16.181662  62.015083  0.000000   \n",
       "18         P13      easy  129.629167      0.000000  75.725628  0.000000   \n",
       "19         P13    medium  113.750000      0.000000  54.626374  0.000000   \n",
       "20         P13      hard  101.641667      0.000000  54.722473  0.000000   \n",
       "21         P14      easy  148.000000      0.000000  84.149775  0.000000   \n",
       "22         P14    medium  122.916667      0.000000  62.701695  0.000000   \n",
       "23         P14      hard  115.208333      0.000000  61.692586  0.000000   \n",
       "\n",
       "    glide [%]  heringbone [%]  dp-skate [%]  dp-kick [%]  skate [%]  \\\n",
       "0   17.140870       25.052171      0.000000     0.000000   0.000000   \n",
       "1   19.428882       29.399221      0.000000     0.000000   0.000000   \n",
       "2   21.848581       26.696045      0.000000     0.000000   0.000000   \n",
       "3   11.749789        0.000000     12.118343     0.000000   0.000000   \n",
       "4   11.723826        0.000000     10.572415     0.000000   0.000000   \n",
       "5    9.972666        0.000000     10.899462     0.000000   0.000000   \n",
       "6   22.819987        0.000000      8.683087     0.000000   0.000000   \n",
       "7   25.195056        0.000000     12.599459     0.000000   0.000000   \n",
       "8   25.352746        0.000000     13.431293     0.000000   0.000000   \n",
       "9   19.834981        0.000000      5.635416     8.571161   1.182713   \n",
       "10  13.174533        0.000000      8.501691     2.784885   0.000000   \n",
       "11   9.455500        0.000000     14.089546     0.000000   0.000000   \n",
       "12   7.270884        0.000000     12.000835     8.729236   0.000000   \n",
       "13   7.678131        0.000000     10.755642     6.756616   0.000000   \n",
       "14   7.593274        0.000000     13.775242     0.000000   0.000000   \n",
       "15  14.173022        0.000000      0.000000     0.000000   0.000000   \n",
       "16   7.532258        8.034274      0.000000     0.000000   0.000000   \n",
       "17   5.991351       15.811903      0.000000     0.000000   0.000000   \n",
       "18  14.496480        0.000000      8.813603     0.000000   0.964289   \n",
       "19  13.388278        0.000000     13.157509     0.000000   0.000000   \n",
       "20  13.117980        0.000000     19.697467     0.000000   0.000000   \n",
       "21   8.164414        0.000000      3.800676     0.000000   3.885135   \n",
       "22   7.247458        0.000000     12.654237     0.000000   4.406780   \n",
       "23  10.564195        0.000000     14.112116     0.000000   3.142857   \n",
       "\n",
       "    v1-skate [%]  \n",
       "0       0.000000  \n",
       "1       0.000000  \n",
       "2       0.000000  \n",
       "3       0.000000  \n",
       "4       0.000000  \n",
       "5       0.000000  \n",
       "6       0.000000  \n",
       "7       0.000000  \n",
       "8       0.000000  \n",
       "9       0.000000  \n",
       "10      0.000000  \n",
       "11      0.000000  \n",
       "12      0.000000  \n",
       "13      0.000000  \n",
       "14      0.000000  \n",
       "15      0.000000  \n",
       "16      0.000000  \n",
       "17      0.000000  \n",
       "18      0.000000  \n",
       "19     18.827839  \n",
       "20     12.462081  \n",
       "21      0.000000  \n",
       "22     12.989831  \n",
       "23     10.488246  "
      ]
     },
     "execution_count": 196,
     "metadata": {},
     "output_type": "execute_result"
    }
   ],
   "source": [
    "df"
   ]
  },
  {
   "cell_type": "code",
   "execution_count": 21,
   "id": "dd11eb6b",
   "metadata": {},
   "outputs": [
    {
     "data": {
      "text/plain": [
       "array(['P3', 'P3', 'P3', 'P5', 'P5', 'P5', 'P6', 'P6', 'P6', 'P7', 'P7',\n",
       "       'P7', 'P8', 'P8', 'P8', 'P12', 'P12', 'P12', 'P13', 'P13', 'P13',\n",
       "       'P14', 'P14', 'P14'], dtype=object)"
      ]
     },
     "execution_count": 21,
     "metadata": {},
     "output_type": "execute_result"
    }
   ],
   "source": [
    "df.index.get_level_values('Participant')"
   ]
  },
  {
   "cell_type": "code",
   "execution_count": 186,
   "id": "b1abdddc",
   "metadata": {},
   "outputs": [
    {
     "data": {
      "text/plain": [
       "<seaborn.axisgrid.FacetGrid at 0x1a889c0eee0>"
      ]
     },
     "execution_count": 186,
     "metadata": {},
     "output_type": "execute_result"
    },
    {
     "data": {
      "image/png": "[encoded data removed]",
      "text/plain": [
       "<Figure size 1213.5x576 with 1 Axes>"
      ]
     },
     "metadata": {
      "needs_background": "light"
     },
     "output_type": "display_data"
    }
   ],
   "source": [
    "sns.catplot(data=df, x='Time [s]', hue='Participant', y='Intensity', kind = 'bar', aspect=2, height = 8)"
   ]
  },
  {
   "cell_type": "code",
   "execution_count": 192,
   "id": "f3bd8c6a",
   "metadata": {
    "scrolled": true
   },
   "outputs": [
    {
     "data": {
      "text/plain": [
       "<seaborn.axisgrid.FacetGrid at 0x1a88a877e20>"
      ]
     },
     "execution_count": 192,
     "metadata": {},
     "output_type": "execute_result"
    },
    {
     "data": {
      "image/png": "[encoded data removed]",
      "text/plain": [
       "<Figure size 1229x576 with 1 Axes>"
      ]
     },
     "metadata": {
      "needs_background": "light"
     },
     "output_type": "display_data"
    }
   ],
   "source": [
    "sns.catplot(data=df, x='Time [s]', y='Participant', hue='Intensity', kind = 'bar', aspect=2, height = 8)"
   ]
  },
  {
   "cell_type": "code",
   "execution_count": 121,
   "id": "8223da89",
   "metadata": {
    "scrolled": true
   },
   "outputs": [
    {
     "data": {
      "text/plain": [
       "<seaborn.axisgrid.FacetGrid at 0x1a880c22bb0>"
      ]
     },
     "execution_count": 121,
     "metadata": {},
     "output_type": "execute_result"
    },
    {
     "data": {
      "image/png": "[encoded data removed]",
      "text/plain": [
       "<Figure size 437x360 with 1 Axes>"
      ]
     },
     "metadata": {
      "needs_background": "light"
     },
     "output_type": "display_data"
    }
   ],
   "source": [
    "sns.displot(data=df, y='dp [%]', x='Participant', hue = 'Intensity')"
   ]
  },
  {
   "cell_type": "code",
   "execution_count": 152,
   "id": "b86fccff",
   "metadata": {
    "scrolled": false
   },
   "outputs": [
    {
     "data": {
      "text/plain": [
       "<seaborn.axisgrid.FacetGrid at 0x1a884c938b0>"
      ]
     },
     "execution_count": 152,
     "metadata": {},
     "output_type": "execute_result"
    },
    {
     "data": {
      "image/png": "[encoded data removed]",
      "text/plain": [
       "<Figure size 437x360 with 1 Axes>"
      ]
     },
     "metadata": {
      "needs_background": "light"
     },
     "output_type": "display_data"
    }
   ],
   "source": [
    "sns.displot(df, x='Participant', y=df.columns.values[4], hue='Intensity')"
   ]
  },
  {
   "cell_type": "code",
   "execution_count": 185,
   "id": "54743cca",
   "metadata": {
    "scrolled": true
   },
   "outputs": [
    {
     "data": {
      "text/plain": [
       "<AxesSubplot:xlabel='[P3, P5, P6, P7, P8, P12, P13, P14]'>"
      ]
     },
     "execution_count": 185,
     "metadata": {},
     "output_type": "execute_result"
    },
    {
     "data": {
      "image/png": "[encoded data removed]",
      "text/plain": [
       "<Figure size 1440x576 with 1 Axes>"
      ]
     },
     "metadata": {
      "needs_background": "light"
     },
     "output_type": "display_data"
    }
   ],
   "source": [
    "df[df['Intensity']=='easy'].iloc[:,3:].plot(xlabel=df['Participant'][::3],figsize = [20,8],kind='bar', width=1)\n",
    "#df[df['Intensity']=='hard'].iloc[:,2].plot()"
   ]
  },
  {
   "cell_type": "code",
   "execution_count": 175,
   "id": "fc0704f0",
   "metadata": {},
   "outputs": [
    {
     "data": {
      "text/plain": [
       "<AxesSubplot:>"
      ]
     },
     "execution_count": 175,
     "metadata": {},
     "output_type": "execute_result"
    },
    {
     "data": {
      "image/png": "[encoded data removed]",
      "text/plain": [
       "<Figure size 432x288 with 1 Axes>"
      ]
     },
     "metadata": {
      "needs_background": "light"
     },
     "output_type": "display_data"
    }
   ],
   "source": [
    "df[df['Intensity']=='hard'].iloc[:,2].plot()"
   ]
  },
  {
   "cell_type": "code",
   "execution_count": 126,
   "id": "59df4865",
   "metadata": {},
   "outputs": [
    {
     "data": {
      "text/plain": [
       "array(['diagonal [%]', 'dp [%]', 'fall [%]', 'glide [%]',\n",
       "       'heringbone [%]', 'dp-skate [%]', 'dp-kick [%]', 'skate [%]',\n",
       "       'v1-skate [%]'], dtype=object)"
      ]
     },
     "execution_count": 126,
     "metadata": {},
     "output_type": "execute_result"
    }
   ],
   "source": [
    "df.columns.values[3:]"
   ]
  },
  {
   "cell_type": "code",
   "execution_count": 135,
   "id": "f24fa2b1",
   "metadata": {
    "scrolled": true
   },
   "outputs": [
    {
     "data": {
      "text/plain": [
       "([<matplotlib.patches.Wedge at 0x1a884c36c10>,\n",
       "  <matplotlib.patches.Wedge at 0x1a884c45370>,\n",
       "  <matplotlib.patches.Wedge at 0x1a884c45a90>,\n",
       "  <matplotlib.patches.Wedge at 0x1a884c521f0>,\n",
       "  <matplotlib.patches.Wedge at 0x1a884c52940>,\n",
       "  <matplotlib.patches.Wedge at 0x1a884c5d0a0>,\n",
       "  <matplotlib.patches.Wedge at 0x1a884c5d7c0>,\n",
       "  <matplotlib.patches.Wedge at 0x1a884c5dee0>,\n",
       "  <matplotlib.patches.Wedge at 0x1a884c68640>],\n",
       " [Text(1.1, 0.0, 'diagonal [%]'),\n",
       "  Text(-0.804978111150971, 0.7496734226100157, 'dp [%]'),\n",
       "  Text(0.07816319896760876, -1.0972194467503529, 'fall [%]'),\n",
       "  Text(0.46878008903199386, -0.9951106612468565, 'glide [%]'),\n",
       "  Text(0.7962442586658509, -0.7589433974557455, 'heringbone [%]'),\n",
       "  Text(1.0212415690061865, -0.40873666061876873, 'dp-skate [%]'),\n",
       "  Text(1.1, -2.6942229581241775e-16, 'dp-kick [%]'),\n",
       "  Text(1.1, -2.6942229581241775e-16, 'skate [%]'),\n",
       "  Text(1.1, -2.6942229581241775e-16, 'v1-skate [%]')],\n",
       " [Text(0.6, 0.0, '0%'),\n",
       "  Text(-0.43907896971871135, 0.4089127759690994, '76%'),\n",
       "  Text(0.04263447216415023, -0.5984833345911015, '0%'),\n",
       "  Text(0.2556982303810875, -0.5427876334073762, '12%'),\n",
       "  Text(0.43431505018137323, -0.413969125884952, '0%'),\n",
       "  Text(0.5570408558215562, -0.22294726942841928, '12%'),\n",
       "  Text(0.6, -1.4695761589768238e-16, '0%'),\n",
       "  Text(0.6, -1.4695761589768238e-16, '0%'),\n",
       "  Text(0.6, -1.4695761589768238e-16, '0%')])"
      ]
     },
     "execution_count": 135,
     "metadata": {},
     "output_type": "execute_result"
    },
    {
     "data": {
      "image/png": "[encoded data removed]",
      "text/plain": [
       "<Figure size 432x288 with 1 Axes>"
      ]
     },
     "metadata": {},
     "output_type": "display_data"
    }
   ],
   "source": [
    "\n",
    "plt.pie(df.iloc[3,3:], labels=df.columns.values[3:], autopct='%.0f%%')"
   ]
  },
  {
   "cell_type": "code",
   "execution_count": null,
   "id": "60bd84cc",
   "metadata": {},
   "outputs": [],
   "source": []
  }
 ],
 "metadata": {
  "kernelspec": {
   "display_name": "Python 3 (ipykernel)",
   "language": "python",
   "name": "python3"
  },
  "language_info": {
   "codemirror_mode": {
    "name": "ipython",
    "version": 3
   },
   "file_extension": ".py",
   "mimetype": "text/x-python",
   "name": "python",
   "nbconvert_exporter": "python",
   "pygments_lexer": "ipython3",
   "version": "3.9.12"
  }
 },
 "nbformat": 4,
 "nbformat_minor": 5
}
